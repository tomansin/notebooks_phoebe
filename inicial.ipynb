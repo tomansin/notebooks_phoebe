{
 "cells": [
  {
   "cell_type": "markdown",
   "id": "4989b131-9bae-45e4-a40c-ce446949a5c8",
   "metadata": {},
   "source": [
    "# Inicial phoebe"
   ]
  },
  {
   "cell_type": "code",
   "execution_count": null,
   "id": "1f01291b-3936-4652-8e82-66c7081684fd",
   "metadata": {},
   "outputs": [],
   "source": [
    "%matplotlib inline\n",
    "import numpy as np\n",
    "import matplotlib.pyplot as plt\n",
    "# plt.style.use('science')\n",
    "# plt.rcParams['figure.dpi'] = 100\n",
    "import phoebe\n",
    "from phoebe import u\n",
    "import astropy.constants as c\n",
    "logger = phoebe.logger('warning')\n",
    "phoebe.__version__"
   ]
  },
  {
   "cell_type": "markdown",
   "id": "bd68b2e4-15d8-4a15-952c-179705a886da",
   "metadata": {},
   "source": [
    "## Datos falsos para hacer figuras"
   ]
  },
  {
   "cell_type": "markdown",
   "id": "15a4b7e3-8b7d-419a-affb-1ef3104a104a",
   "metadata": {
    "tags": []
   },
   "source": [
    "## Armo sistema binario basico "
   ]
  },
  {
   "cell_type": "code",
   "execution_count": null,
   "id": "f72e6ceb-809b-42b8-8a4e-20f52d207ac6",
   "metadata": {
    "tags": []
   },
   "outputs": [],
   "source": [
    "b = phoebe.default_binary()"
   ]
  },
  {
   "cell_type": "markdown",
   "id": "c79c7f80-3986-4d45-bac2-05d75b90d8af",
   "metadata": {},
   "source": [
    "## Cargo observables "
   ]
  },
  {
   "cell_type": "code",
   "execution_count": null,
   "id": "a536ff0a-abe2-45ea-b27a-d96b592bed2d",
   "metadata": {},
   "outputs": [],
   "source": [
    "# lctimes, flux, flux_err = np.loadtxt('file_name',unpack=True)\n",
    "\n",
    "# MUY IMPORTANTE SUMARLE 2457000 A EL TIEMPO PARA QUE SEA \n",
    "# times_lc = times_lc. + 2457000.\n",
    "\n",
    "b.add_dataset('lc',\n",
    "              compute_phases=phoebe.linspace(-0.5,0.5,101),\n",
    "              times=lctimes, \n",
    "              dataset='tess', \n",
    "              fluxes=flux,\n",
    "              sigmas=flux_err,              \n",
    "              passband='TESS:T',\n",
    "              ld_mode='manual',      #\n",
    "              ld_func='square_root', # Parametros del oscurecimiento al limbo\n",
    "              ld_coeffs = [0.5,0.5], #\n",
    "              overwrite=True)\n",
    "\n",
    "# rvtimes, rvs1, rvserr1, vr2, rvserr2 = np.loadtxt('filename', unpack=True)\n",
    "\n",
    "b.add_dataset('rv', \n",
    "              compute_phases=phoebe.linspace(-0.5,0.5,50),\n",
    "              dataset='rv01',\n",
    "              ld_mode='manual', \n",
    "              ld_func='square_root', \n",
    "              ld_coeffs = [0.5,0.5],\n",
    "              overwrite=True)\n",
    "\n",
    "b['times@rv@primary'], b['rvs@rv@primary'], b['sigmas@rv@primary'] = rvtimes, rvs1, rvserr\n",
    "b['times@rv@secondary'], b['rvs@rv@secondary'], b['sigmas@rv@secondary'] = rvtimes, rvs2, rvserr"
   ]
  },
  {
   "cell_type": "markdown",
   "id": "db26a43a-9323-4895-bb51-a90688628005",
   "metadata": {
    "tags": []
   },
   "source": [
    "## Acá empiezo a cambiar los parámetros según lo que ya sabíamos"
   ]
  },
  {
   "cell_type": "code",
   "execution_count": null,
   "id": "bac4f965",
   "metadata": {},
   "outputs": [],
   "source": [
    "#Definir cantidades conocidas\n",
    "\n",
    "# p = \n",
    "# i = \n",
    "# q = \n",
    "# ecc = \n",
    "# t0 = \n",
    "# per0 = \n",
    "# v0 = \n",
    "# asini = "
   ]
  },
  {
   "cell_type": "code",
   "execution_count": null,
   "id": "cc1bc4dd-3560-44cb-8235-8b0d269dd450",
   "metadata": {
    "colab": {
     "base_uri": "https://localhost:8080/"
    },
    "id": "BCSDEm8g5Fe4",
    "outputId": "a7b35c67-c984-42d2-e6d2-372b954929f2",
    "tags": []
   },
   "outputs": [],
   "source": [
    "b['binary@q'] = q # Relación de masa\n",
    "b['t0_supconj'] = t0 # T0 de vrs para empezar\n",
    "b['binary@period'] = p #Periodo (d)            \n",
    "b['system@vgamma'] = v0\n",
    "b['incl@binary'] = i\n",
    "b['binary@ecc'] = ecc\n",
    "b['binary@per0'] = per0\n",
    "\n",
    "try:\n",
    "    b.flip_constraint('asini@binary', 'sma@binary')\n",
    "except:\n",
    "    pass\n",
    "\n",
    "b['asini@binary'] = asini\n",
    "\n",
    "b['primary@component@teff']=32000  \n",
    "b['secondary@component@teff']=32000\n",
    "\n",
    "b['requiv@primary']=8\n",
    "b['requiv@secondary']=8"
   ]
  },
  {
   "cell_type": "code",
   "execution_count": null,
   "id": "3ed627e2",
   "metadata": {},
   "outputs": [],
   "source": [
    "print(b['sma@binary'])\n",
    "print(b['mass'])\n",
    "print(b['logg'])\n",
    "print(b['requiv_max'])"
   ]
  },
  {
   "cell_type": "markdown",
   "id": "7f2931f1",
   "metadata": {},
   "source": [
    "## Tercer luz"
   ]
  },
  {
   "cell_type": "code",
   "execution_count": null,
   "id": "007b9507",
   "metadata": {},
   "outputs": [],
   "source": [
    "# b['l3_mode'] = 'fraction'\n",
    "# b['l3_frac'] = "
   ]
  },
  {
   "cell_type": "markdown",
   "id": "9240bbee",
   "metadata": {},
   "source": [
    "## Atmosferas"
   ]
  },
  {
   "cell_type": "code",
   "execution_count": null,
   "id": "282df807-b460-47b3-a3d3-28fa83f592a8",
   "metadata": {
    "colab": {
     "base_uri": "https://localhost:8080/"
    },
    "id": "veL-9ygpA0Q6",
    "outputId": "708968a8-6f49-47f7-956a-6ecc161e6b79",
    "tags": []
   },
   "outputs": [],
   "source": [
    "b['gravb_bol@primary'] = 1.0\n",
    "b['irrad_frac_refl_bol@primary'] = 1.0\n",
    "\n",
    "b['gravb_bol@secondary'] = 1.0\n",
    "b['irrad_frac_refl_bol@secondary'] = 1.0\n",
    "\n",
    "b['atm@primary'] = 'blackbody'\n",
    "b['atm@secondary'] = 'blackbody'\n",
    "\n",
    "b['ld_func_bol@primary'] = 'square_root'\n",
    "b['ld_func_bol@secondary'] = 'square_root'\n",
    "\n",
    "b['ld_mode_bol@primary'] = 'manual'\n",
    "b['ld_mode_bol@secondary'] = 'manual'\n",
    "b['ld_coeffs_bol@primary'] = (0.243,0.496) # VanHamme 1993\n",
    "b['ld_coeffs_bol@secondary'] = (0.243,0.496)\n",
    "\n",
    "b['ld_mode@primary@tess'] = 'manual'\n",
    "b['ld_mode@secondary@tess'] = 'manual'\n",
    "b['ld_func@primary@tess'] = 'square_root'\n",
    "b['ld_func@secondary@tess'] = 'square_root'\n",
    "b['ld_coeffs@primary@tess'] = (-0.1869,0.5956)\n",
    "b['ld_coeffs@secondary@tess'] = (-0.1869,0.5956) \n",
    "\n",
    "\n",
    "b['rv_method@primary'] = 'dynamical'  # esto es porque no veo efecto Rossiter-McLaughlin. Caso contrario -> flux-weighted\n",
    "b['rv_method@secondary'] = 'dynamical'\n",
    "b['ld_mode@primary@rv01'] = 'manual'\n",
    "b['ld_mode@secondary@rv01'] = 'manual'\n",
    "b['ld_coeffs@primary@rv01'] = (0.5,0.5)\n",
    "b['ld_coeffs@secondary@rv01'] = (0.5,0.5)"
   ]
  },
  {
   "cell_type": "markdown",
   "id": "2c955946-e180-43c6-a76d-c18d8b313c24",
   "metadata": {},
   "source": [
    "## Modelo"
   ]
  },
  {
   "cell_type": "code",
   "execution_count": null,
   "id": "0604a970-8d99-48ed-8058-5329440f4cf3",
   "metadata": {},
   "outputs": [],
   "source": [
    "b.set_value_all('pblum_mode', 'dataset-scaled')"
   ]
  },
  {
   "cell_type": "code",
   "execution_count": null,
   "id": "96bce8bf-77b4-45ab-adeb-511b718a5309",
   "metadata": {
    "tags": []
   },
   "outputs": [],
   "source": [
    "b.run_compute('phoebe01', model='inicial', overwrite=True)\n",
    "_= b.plot(kind='lc', x='phases', model = 'inicial', show=True, marker={'dataset': '.'})\n",
    "_= b.plot(kind='lc', x='phases', model = 'inicial', show=True, y='residuals',marker='.')\n",
    "_= b.plot(kind='rv', x='phases', model = 'inicial', show=True, marker={'dataset': 'o'})\n",
    "_= b.plot(kind='rv', x='phases', model = 'inicial', show=True, y='residuals',marker='o')"
   ]
  },
  {
   "cell_type": "code",
   "execution_count": null,
   "id": "820362e8",
   "metadata": {},
   "outputs": [],
   "source": [
    "b.save('inicial.bundle')"
   ]
  },
  {
   "cell_type": "code",
   "execution_count": null,
   "id": "56612800",
   "metadata": {},
   "outputs": [],
   "source": [
    "print(b['requiv'])\n",
    "print(b['mass'])\n",
    "print(b['logg'])"
   ]
  },
  {
   "cell_type": "code",
   "execution_count": null,
   "id": "234085c6-2640-4718-9a75-b106ff7eedaa",
   "metadata": {},
   "outputs": [],
   "source": []
  }
 ],
 "metadata": {
  "kernelspec": {
   "display_name": "Python 3 (ipykernel)",
   "language": "python",
   "name": "python3"
  },
  "language_info": {
   "codemirror_mode": {
    "name": "ipython",
    "version": 3
   },
   "file_extension": ".py",
   "mimetype": "text/x-python",
   "name": "python",
   "nbconvert_exporter": "python",
   "pygments_lexer": "ipython3",
   "version": "3.10.4"
  },
  "vscode": {
   "interpreter": {
    "hash": "672902de4da1cfebe5345f8a35ee42f7a97ee734296d5bcc5380f44423f0091c"
   }
  }
 },
 "nbformat": 4,
 "nbformat_minor": 5
}
